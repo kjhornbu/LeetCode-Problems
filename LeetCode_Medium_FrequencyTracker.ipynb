{
 "cells": [
  {
   "cell_type": "markdown",
   "id": "f15026fb-d682-4472-afcd-f1d400406eea",
   "metadata": {},
   "source": [
    "## Frequency Tracker\n",
    "\n",
    "Design a data structure that keeps track of the values in it and answers some queries regarding their frequencies.\n",
    "\n",
    "Implement the FrequencyTracker class.\n",
    "\n",
    "FrequencyTracker(): Initializes the FrequencyTracker object with an empty array initially.\n",
    "void add(int number): Adds number to the data structure.\n",
    "void deleteOne(int number): Deletes one occurrence of number from the data structure. The data structure may not contain number, and in this case nothing is deleted.\n",
    "bool hasFrequency(int frequency): Returns true if there is a number in the data structure that occurs frequency number of times, otherwise, it returns false."
   ]
  },
  {
   "cell_type": "code",
   "execution_count": 1,
   "id": "962b7c25-0191-4b6c-9710-cca51efe99ed",
   "metadata": {
    "tags": []
   },
   "outputs": [],
   "source": [
    "class FrequencyTracker:\n",
    "    def __init__(self):\n",
    "        self.objectArray = []\n",
    "        return None\n",
    "    def add(self,number):\n",
    "        self.objectArray.append(number)\n",
    "        return None\n",
    "    def deleteOne(self, number):\n",
    "        self.objectArray.remove(number)\n",
    "        return None \n",
    "    def hasFrequency(self, frequency):\n",
    "        checkFrequency = False\n",
    "        uniqueItems = list(set(self.objectArray))\n",
    "        \n",
    "        for entry in range(0,len(uniqueItems)):\n",
    "            count = self.objectArray.count(uniqueItems[entry])\n",
    "            if count == frequency:\n",
    "                checkFrequency = True\n",
    "                return checkFrequency\n",
    "            \n",
    "        return checkFrequency\n",
    "    "
   ]
  },
  {
   "cell_type": "code",
   "execution_count": 2,
   "id": "8ea1590c-9d2e-4a05-b978-9862e11ce507",
   "metadata": {
    "tags": []
   },
   "outputs": [],
   "source": [
    "def testFrequencyTracker(inputCall, inputValues):\n",
    "    output = []\n",
    "    for entry in range(0, len(inputCall)):\n",
    "        if inputCall[entry] == \"FrequencyTracker\" :\n",
    "            initalizeArray = frequencyTracker = FrequencyTracker()\n",
    "            output.append(initalizeArray) #This is actually pointing to the actual locations \n",
    "            \n",
    "        elif inputCall[entry] == \"add\" :\n",
    "            addValue = frequencyTracker.add(inputValues[entry][0])\n",
    "            output.append(addValue)\n",
    "            \n",
    "        elif inputCall[entry] == \"deleteOne\" :\n",
    "            removeValue = frequencyTracker.deleteOne(inputValues[entry][0])\n",
    "            output.append(removeValue)\n",
    "            \n",
    "        elif inputCall[entry] == \"hasFrequency\" :\n",
    "            ifOccurs = frequencyTracker.hasFrequency(inputValues[entry][0])\n",
    "            output.append(ifOccurs)\n",
    "\n",
    "    return output"
   ]
  },
  {
   "cell_type": "code",
   "execution_count": 3,
   "id": "b801b603-692a-4b29-b4b4-3d74e69a9c81",
   "metadata": {
    "tags": []
   },
   "outputs": [
    {
     "name": "stdout",
     "output_type": "stream",
     "text": [
      "[<__main__.FrequencyTracker object at 0x10730f510>, None, None, True]\n"
     ]
    }
   ],
   "source": [
    "#Case 1\n",
    "inputCall = [\"FrequencyTracker\",\"add\",\"add\",\"hasFrequency\"]\n",
    "inputValues = [[],[3],[3],[2]]\n",
    "output = testFrequencyTracker(inputCall, inputValues)\n",
    "print(output)"
   ]
  },
  {
   "cell_type": "code",
   "execution_count": 4,
   "id": "1ebfdec7-c27f-4bf8-ab65-9465ffbab0e1",
   "metadata": {
    "tags": []
   },
   "outputs": [
    {
     "name": "stdout",
     "output_type": "stream",
     "text": [
      "[<__main__.FrequencyTracker object at 0x10732c410>, None, None, False]\n"
     ]
    }
   ],
   "source": [
    "#Case 2\n",
    "inputCall = [\"FrequencyTracker\",\"add\",\"deleteOne\",\"hasFrequency\"]\n",
    "inputValues = [[],[1],[1],[1]]\n",
    "output = testFrequencyTracker(inputCall, inputValues)\n",
    "print(output)"
   ]
  },
  {
   "cell_type": "code",
   "execution_count": 5,
   "id": "8412b445-b862-4250-a278-6e7deddf8be0",
   "metadata": {
    "tags": []
   },
   "outputs": [
    {
     "name": "stdout",
     "output_type": "stream",
     "text": [
      "[<__main__.FrequencyTracker object at 0x10732dcd0>, False, None, True]\n"
     ]
    }
   ],
   "source": [
    "#Case 3\n",
    "inputCall = [\"FrequencyTracker\",\"hasFrequency\",\"add\",\"hasFrequency\"]\n",
    "inputValues = [[],[2],[3],[1]]\n",
    "output = testFrequencyTracker(inputCall, inputValues)\n",
    "print(output)"
   ]
  },
  {
   "cell_type": "code",
   "execution_count": null,
   "id": "4a39649a-1c5b-4400-8067-26cf764b4731",
   "metadata": {},
   "outputs": [],
   "source": []
  }
 ],
 "metadata": {
  "kernelspec": {
   "display_name": "Python 3 (ipykernel)",
   "language": "python",
   "name": "python3"
  },
  "language_info": {
   "codemirror_mode": {
    "name": "ipython",
    "version": 3
   },
   "file_extension": ".py",
   "mimetype": "text/x-python",
   "name": "python",
   "nbconvert_exporter": "python",
   "pygments_lexer": "ipython3",
   "version": "3.11.5"
  }
 },
 "nbformat": 4,
 "nbformat_minor": 5
}
