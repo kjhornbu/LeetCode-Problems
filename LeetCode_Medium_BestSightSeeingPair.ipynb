{
 "cells": [
  {
   "cell_type": "markdown",
   "id": "62a00ffc-8cc8-4fc0-b5f0-c973250f46fc",
   "metadata": {},
   "source": [
    "## Best Sightseeing Pair\n",
    "\n",
    "You are given an integer array values where values[i] represents the value of the ith sightseeing spot. Two sightseeing spots i and j have a distance j - i between them.\n",
    "\n",
    "The score of a pair (i < j) of sightseeing spots is values[i] + values[j] + i - j: the sum of the values of the sightseeing spots, minus the distance between them.\n",
    "\n",
    "Return the maximum score of a pair of sightseeing spots."
   ]
  },
  {
   "cell_type": "markdown",
   "id": "fb35eed5-bdb5-4ffb-a45b-06ad36718d4a",
   "metadata": {},
   "source": [
    "Inputs: \n",
    "\n",
    "list of values\n",
    "\n",
    "maximum score of values\n",
    "\n",
    "Thoughts of how to do:\n",
    "\n",
    "with 2 loops using i and j check all combinations and then update the maximum value as going along"
   ]
  },
  {
   "cell_type": "code",
   "execution_count": 1,
   "id": "b986b37a-f3f2-49ca-b2d7-a84391ce3751",
   "metadata": {
    "tags": []
   },
   "outputs": [],
   "source": [
    "def bestSightseeingPair(values):\n",
    "    maxScore = 0\n",
    "    \n",
    "    for i in range(0, len(values)):\n",
    "        for j in range (i+1, len(values)):\n",
    "            test = values[i] + values[j] + i - j\n",
    "            \n",
    "            if test > maxScore:\n",
    "                maxScore = test\n",
    "    return maxScore  "
   ]
  },
  {
   "cell_type": "code",
   "execution_count": 2,
   "id": "45ade44c-778c-40e2-b22c-f91b42954d43",
   "metadata": {
    "tags": []
   },
   "outputs": [
    {
     "name": "stdout",
     "output_type": "stream",
     "text": [
      "11\n"
     ]
    }
   ],
   "source": [
    "# Case 1\n",
    "values = [8,1,5,2,6]\n",
    "maxScore = bestSightseeingPair(values)\n",
    "print(maxScore)"
   ]
  },
  {
   "cell_type": "code",
   "execution_count": 3,
   "id": "fc87b5fc-7f05-457b-88f6-887e1c665790",
   "metadata": {
    "tags": []
   },
   "outputs": [
    {
     "name": "stdout",
     "output_type": "stream",
     "text": [
      "2\n"
     ]
    }
   ],
   "source": [
    "#Case 2\n",
    "values = [1,2]\n",
    "maxScore = bestSightseeingPair(values)\n",
    "print(maxScore)"
   ]
  }
 ],
 "metadata": {
  "kernelspec": {
   "display_name": "Python 3 (ipykernel)",
   "language": "python",
   "name": "python3"
  },
  "language_info": {
   "codemirror_mode": {
    "name": "ipython",
    "version": 3
   },
   "file_extension": ".py",
   "mimetype": "text/x-python",
   "name": "python",
   "nbconvert_exporter": "python",
   "pygments_lexer": "ipython3",
   "version": "3.11.5"
  }
 },
 "nbformat": 4,
 "nbformat_minor": 5
}
