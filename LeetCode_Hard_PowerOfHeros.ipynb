{
 "cells": [
  {
   "cell_type": "markdown",
   "id": "a41c2fe2-f97b-4f9d-998c-8883942233bc",
   "metadata": {},
   "source": [
    "## Power of Heroes\n",
    "You are given a 0-indexed integer array nums representing the strength of some heroes. The power of a group of heroes is defined as follows:\n",
    "\n",
    "Let i0, i1, ... ,ik be the indices of the heroes in a group. Then, the power of this group is max(nums[i0], nums[i1], ... ,nums[ik]^2 * min(nums[i0], nums[i1], ... ,nums[ik]).\n",
    "Return the sum of the power of all non-empty groups of heroes possible. Since the sum could be very large, return it modulo 10^9 + 7.\n"
   ]
  },
  {
   "cell_type": "markdown",
   "id": "78fcb83d-c9e4-4009-aea6-90abc82010c4",
   "metadata": {},
   "source": [
    " ## My Thoughts\n",
    " \n",
    " The equation for power : max(all_numbers)^2 * min(all_numbers)\n",
    " To get all combinations do n choose k where k = 1 to length of array\n",
    " find actual index by using some form of binary counter, Filter that binary counter for each use needed then do the sums"
   ]
  },
  {
   "cell_type": "code",
   "execution_count": 1,
   "id": "1d098bdf-2655-4ca5-93ec-88242f5a4507",
   "metadata": {
    "tags": []
   },
   "outputs": [],
   "source": [
    "import math\n",
    "import numpy as np\n",
    "\n",
    "\n",
    "def binaryCount(all_numbers):\n",
    "    N = len(all_numbers)\n",
    "    binArray = np.zeros((2**N, N))\n",
    "    \n",
    "    decimalNumber = range(0,2**N)\n",
    "    \n",
    "    for n in decimalNumber:\n",
    "        for powers in range(0,N):\n",
    "            if (powers > 0):\n",
    "                binArray[n][powers] = (remainder % (2))\n",
    "                remainder = int(remainder/(2))\n",
    "            else: \n",
    "                binArray[n][powers] = (decimalNumber[n]%(2))\n",
    "                remainder = int(decimalNumber[n]/(2))\n",
    "    \n",
    "    return binArray\n",
    "\n",
    "def filterBinaryCount(binArray,k):\n",
    "    totalHits = sum(binArray.transpose())\n",
    "    booleanTotalHits = totalHits == k\n",
    "    idxList = [i for i, x in enumerate(booleanTotalHits) if x]\n",
    "    return idxList\n",
    "\n",
    "def filterNumbers(all_Numbers,binArray,idxList):  \n",
    "    filteredNums = []\n",
    "    for entry in range(0,len(idxList)):\n",
    "        positionalBins=binArray[idxList[entry]] == 1\n",
    "        filteredidx = [i for i, x in enumerate(positionalBins) if x]\n",
    "        \n",
    "        intermediatefilteredNums = []\n",
    "        for item in range(0,len(filteredidx)):\n",
    "            intermediatefilteredNums.append(all_Numbers[filteredidx[item]])\n",
    "            \n",
    "        filteredNums.append(intermediatefilteredNums)\n",
    "        \n",
    "    return filteredNums\n",
    "def doPowerMathSingle(filteredNumsSingle):\n",
    "    singlePower = (max(filteredNumsSingle)**2) * min(filteredNumsSingle)\n",
    "    return singlePower\n",
    "\n",
    "def doFullPowerMath(nums):\n",
    "    binArray = binaryCount(nums)\n",
    "    totalPower = 0\n",
    "    #k with having 1, 2, 3 ... elements in array selected\n",
    "    for k in range(1,len(nums)+1):\n",
    "        idxList = filterBinaryCount(binArray,k)\n",
    "        filteredNums = filterNumbers(nums,binArray,idxList)\n",
    "        \n",
    "        for combo in range(0,len(filteredNums)):\n",
    "            totalPower = doPowerMathSingle(filteredNums[combo])+totalPower\n",
    "        \n",
    "    return totalPower"
   ]
  },
  {
   "cell_type": "code",
   "execution_count": 2,
   "id": "c0be5900-ce14-41f2-ab60-51b308fb2dad",
   "metadata": {
    "tags": []
   },
   "outputs": [
    {
     "name": "stdout",
     "output_type": "stream",
     "text": [
      "141\n"
     ]
    }
   ],
   "source": [
    "# Case 1\n",
    "nums = [2,1,4]\n",
    "totalPower = doFullPowerMath(nums)\n",
    "print(totalPower)"
   ]
  },
  {
   "cell_type": "code",
   "execution_count": 3,
   "id": "125ba4da-adb2-424c-815c-b08f0b50718a",
   "metadata": {
    "tags": []
   },
   "outputs": [
    {
     "name": "stdout",
     "output_type": "stream",
     "text": [
      "7\n"
     ]
    }
   ],
   "source": [
    "# Case 2\n",
    "nums = [1,1,1]\n",
    "totalPower = doFullPowerMath(nums)\n",
    "print(totalPower)"
   ]
  },
  {
   "cell_type": "code",
   "execution_count": 4,
   "id": "0bf566df-fea7-4de1-8ce5-c6e674fbfca5",
   "metadata": {
    "tags": []
   },
   "outputs": [
    {
     "name": "stdout",
     "output_type": "stream",
     "text": [
      "141\n"
     ]
    }
   ],
   "source": [
    "# Case 1 Modified\n",
    "nums = [2,1,4,0,0,0]\n",
    "totalPower = doFullPowerMath(nums)\n",
    "print(totalPower)"
   ]
  }
 ],
 "metadata": {
  "kernelspec": {
   "display_name": "Python 3 (ipykernel)",
   "language": "python",
   "name": "python3"
  },
  "language_info": {
   "codemirror_mode": {
    "name": "ipython",
    "version": 3
   },
   "file_extension": ".py",
   "mimetype": "text/x-python",
   "name": "python",
   "nbconvert_exporter": "python",
   "pygments_lexer": "ipython3",
   "version": "3.11.5"
  }
 },
 "nbformat": 4,
 "nbformat_minor": 5
}
