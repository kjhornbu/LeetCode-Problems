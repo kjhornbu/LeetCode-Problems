{
 "cells": [
  {
   "cell_type": "markdown",
   "id": "cd486533-bc95-4a11-96d4-ae87ce4aacfc",
   "metadata": {},
   "source": [
    "## Add Two Numbers:\n",
    "\n",
    "You are given two non-empty linked lists representing two non-negative integers. The digits are stored in reverse order, and each of their nodes contains a single digit. Add the two numbers and return the sum as a linked list.\n",
    "\n",
    "You may assume the two numbers do not contain any leading zero, except the number 0 itself."
   ]
  },
  {
   "cell_type": "markdown",
   "id": "d5591c7c-5187-44bf-90eb-c54700b7d473",
   "metadata": {},
   "source": [
    "Inputs: \n",
    "    two lists l1 and l2\n",
    "\n",
    "Return the sum in reverse order\n",
    "\n",
    "Thought process\n",
    "\n",
    "Do this like a traditional math problem where you loop and sum up each digit but have a remainder component to keep the tens place"
   ]
  },
  {
   "cell_type": "code",
   "execution_count": 1,
   "id": "9731451f-4b4e-4d69-a5bd-560f7e7a0bf3",
   "metadata": {},
   "outputs": [],
   "source": [
    "def remainderMath(addition):\n",
    "    if addition > 9 :\n",
    "        remainder = 1 # we can't have remainders > 1 because we don't have numbers greater than 9 included\n",
    "        correctedAddition = addition - 10 \n",
    "    else:\n",
    "        remainder = 0\n",
    "        correctedAddition = addition\n",
    "        \n",
    "    return correctedAddition, remainder"
   ]
  },
  {
   "cell_type": "code",
   "execution_count": 2,
   "id": "c76eeb5f-39d6-4485-aab1-9c5cf1c207e8",
   "metadata": {
    "tags": []
   },
   "outputs": [],
   "source": [
    "def addtwonumbers(l1, l2):\n",
    "    maxDigitInList = max([len(l1), len(l2)])\n",
    "    \n",
    "    remainder = 0 # Start remainder at 0\n",
    "    output = []\n",
    "    \n",
    "    for digit in range(0, maxDigitInList):\n",
    "        if digit > len(l1)-1:\n",
    "            addition = 0+l2[digit]+remainder               \n",
    "                            \n",
    "        elif digit > len(l2)-1:\n",
    "            addition = l1[digit]+0+remainder\n",
    "                            \n",
    "        else:\n",
    "            addition = l1[digit]+l2[digit]+remainder\n",
    "        \n",
    "        correctedAddition, remainder = remainderMath(addition)   \n",
    "        output.append(correctedAddition)\n",
    "\n",
    "        if (digit == maxDigitInList-1) and (remainder > 0):\n",
    "            #On last entry put in the remainder\n",
    "            output.append(remainder)\n",
    "\n",
    "    return output"
   ]
  },
  {
   "cell_type": "code",
   "execution_count": 3,
   "id": "b6861d57-33ea-4ee9-8ff5-c6bddf0b71d9",
   "metadata": {
    "tags": []
   },
   "outputs": [
    {
     "name": "stdout",
     "output_type": "stream",
     "text": [
      "[7, 0, 8]\n"
     ]
    }
   ],
   "source": [
    "# Case 1\n",
    "l1 = [2,4,3]\n",
    "l2 = [5,6,4]\n",
    "output = addtwonumbers(l1, l2)\n",
    "print(output)      "
   ]
  },
  {
   "cell_type": "code",
   "execution_count": 4,
   "id": "5dd79ad6-241a-4deb-9022-e93ef8ce8bc4",
   "metadata": {
    "tags": []
   },
   "outputs": [
    {
     "name": "stdout",
     "output_type": "stream",
     "text": [
      "[0]\n"
     ]
    }
   ],
   "source": [
    "# Case 2\n",
    "l1 = [0]\n",
    "l2 = [0]\n",
    "output = addtwonumbers(l1, l2)\n",
    "print(output)  "
   ]
  },
  {
   "cell_type": "code",
   "execution_count": 5,
   "id": "6bc3c2d8-2acf-482e-9583-24d9921b253c",
   "metadata": {
    "tags": []
   },
   "outputs": [
    {
     "name": "stdout",
     "output_type": "stream",
     "text": [
      "[8, 9, 9, 9, 0, 0, 0, 1]\n"
     ]
    }
   ],
   "source": [
    "# Case 3\n",
    "l1 = [9,9,9,9,9,9,9]\n",
    "l2 = [9,9,9,9]\n",
    "output = addtwonumbers(l1, l2)\n",
    "print(output)  "
   ]
  }
 ],
 "metadata": {
  "kernelspec": {
   "display_name": "Python 3 (ipykernel)",
   "language": "python",
   "name": "python3"
  },
  "language_info": {
   "codemirror_mode": {
    "name": "ipython",
    "version": 3
   },
   "file_extension": ".py",
   "mimetype": "text/x-python",
   "name": "python",
   "nbconvert_exporter": "python",
   "pygments_lexer": "ipython3",
   "version": "3.11.5"
  }
 },
 "nbformat": 4,
 "nbformat_minor": 5
}
