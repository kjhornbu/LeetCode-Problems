{
 "cells": [
  {
   "cell_type": "markdown",
   "id": "220e8dba-2d93-4518-bd06-a213818fd2db",
   "metadata": {},
   "source": [
    "## 2 Sum:\n",
    "Given an array of integers nums and an integer target, return indices of the two numbers such that they add up to target.\n",
    "You may assume that each input would have exactly one solution, and you may not use the same element twice.\n",
    "You can return the answer in any order."
   ]
  },
  {
   "cell_type": "markdown",
   "id": "a033bedd-3944-4f4e-8625-9bfda8e4ab11",
   "metadata": {},
   "source": [
    "Inputs: \n",
    " \n",
    " nums = input array\n",
    " \n",
    " target = sum to generate\n",
    "\n",
    "Thought process: \n",
    "nums = [A, B, C, D] target = E\n",
    "\n",
    "Need to:\n",
    "find number = E-A\n",
    "if can't find any number than statisfies that then move on to B etc. \n",
    "keep record of index at each point"
   ]
  },
  {
   "cell_type": "code",
   "execution_count": 5,
   "id": "d6f40b06-51f6-4e7b-8a31-336f623cf810",
   "metadata": {
    "tags": []
   },
   "outputs": [],
   "source": [
    "def twosum (nums, target):\n",
    "    idx1 = -1\n",
    "    idx2 = -1\n",
    "    for idx1 in range(0, len(nums),1):\n",
    "        test = target-nums[idx1]\n",
    "        \n",
    "        if test in nums:\n",
    "            idx2 = nums.index(test)\n",
    "            if idx2 != idx1 : \n",
    "                return idx1, idx2\n",
    "       \n",
    "    return idx1, idx2\n",
    "    "
   ]
  },
  {
   "cell_type": "code",
   "execution_count": 2,
   "id": "7a5bb0d7-b0d5-47c8-8ab1-f9c3927de90f",
   "metadata": {
    "tags": []
   },
   "outputs": [
    {
     "name": "stdout",
     "output_type": "stream",
     "text": [
      "0 1\n"
     ]
    }
   ],
   "source": [
    "# case 1: \n",
    "nums = [2,7,11,15]\n",
    "target = 9\n",
    "idx1, idx2 = twosum (nums, target)\n",
    "print(idx1,idx2)"
   ]
  },
  {
   "cell_type": "code",
   "execution_count": 3,
   "id": "9816fbe2-203c-4acf-9cd4-ac72755b9228",
   "metadata": {
    "tags": []
   },
   "outputs": [
    {
     "name": "stdout",
     "output_type": "stream",
     "text": [
      "1 2\n"
     ]
    }
   ],
   "source": [
    "# case 2: \n",
    "nums = [3,2,4]\n",
    "target = 6\n",
    "idx1, idx2 = twosum (nums, target)\n",
    "print(idx1,idx2)"
   ]
  },
  {
   "cell_type": "code",
   "execution_count": 4,
   "id": "1376b6fd-ebc8-4357-8406-2d5bbd78fc70",
   "metadata": {
    "tags": []
   },
   "outputs": [
    {
     "name": "stdout",
     "output_type": "stream",
     "text": [
      "1 0\n"
     ]
    }
   ],
   "source": [
    "#case 3:\n",
    "nums = [3,3]\n",
    "target = 6\n",
    "idx1, idx2 = twosum (nums, target)\n",
    "print(idx1,idx2)"
   ]
  }
 ],
 "metadata": {
  "kernelspec": {
   "display_name": "Python 3 (ipykernel)",
   "language": "python",
   "name": "python3"
  },
  "language_info": {
   "codemirror_mode": {
    "name": "ipython",
    "version": 3
   },
   "file_extension": ".py",
   "mimetype": "text/x-python",
   "name": "python",
   "nbconvert_exporter": "python",
   "pygments_lexer": "ipython3",
   "version": "3.11.5"
  }
 },
 "nbformat": 4,
 "nbformat_minor": 5
}
